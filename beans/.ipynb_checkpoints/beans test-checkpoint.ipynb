{
 "cells": [
  {
   "cell_type": "code",
   "execution_count": 5,
   "metadata": {},
   "outputs": [],
   "source": [
    "from beans import Beans\n",
    "from astropy.io import ascii"
   ]
  },
  {
   "cell_type": "code",
   "execution_count": 15,
   "metadata": {},
   "outputs": [
    {
     "name": "stdout",
     "output_type": "stream",
     "text": [
      "Reading in observation data files ...\n",
      "Observations found: \n",
      " burst times = [0.      1.89152 2.77065 4.01315]\n",
      " fluences = [2.6196 2.6486 2.9904 3.4599]\n",
      " alphas = [  0.  107.  105.7 121.1]\n",
      " persistent fluxes = [5.38577 5.57804 5.52721 5.60456 5.61561 5.07858 4.60564 4.30066 4.22773\n",
      " 4.09513 4.03546 3.74595 3.68407 3.65092 3.33931 3.1824  3.24649 3.23765\n",
      " 3.22218 3.18461 3.00781 2.92383 2.86195 2.78239 2.75587 2.61664]\n",
      " You have chosen gti_checking = 0, so no gti data will be used.\n",
      "So the data that emcee will use is obs, obs_err:\n",
      "[0.0, 2.770649999998568, 4.013149999998859, 2.6196, 2.6486, 2.9904, 3.4599, 107.0, 105.7, 121.1] [0.0069, 0.0069, 0.0069, 0.0207, 0.0178, 0.0173, 0.0221, 2.0, 1.9, 2.3]\n",
      "# -------------------------------------------------------------------------#\n",
      "Doing Initialisation..\n",
      "Testing the model works..\n",
      "result:  [  0.37596756   2.57382977   3.6951732    5.22042565   5.49339669\n",
      "   5.76917402   7.53988039 129.97398759 139.81100405 155.46956032] True\n"
     ]
    }
   ],
   "source": [
    "B = Beans(nsteps=5000, run_id=\"1808/test2\", \n",
    "          obsname='/home/tom//Documents/beans install/beans/data/1808_obs.txt', \n",
    "          burstname='/home/tom//Documents/beans install/beans/data/1808_bursts.txt', \n",
    "          gtiname='/home/tom//Documents/beans install/beans/data/1808_gti.txt')"
   ]
  },
  {
   "cell_type": "code",
   "execution_count": 8,
   "metadata": {},
   "outputs": [],
   "source": [
    "obsdata = ascii.read('/home/tom/Documents/beans install/beans/data/1808_obs.txt')"
   ]
  },
  {
   "cell_type": "code",
   "execution_count": 9,
   "metadata": {},
   "outputs": [
    {
     "data": {
      "text/html": [
       "<i>Table length=26</i>\n",
       "<table id=\"table140093337624848\" class=\"table-striped table-bordered table-condensed\">\n",
       "<thead><tr><th>col1</th><th>col2</th><th>col3</th><th>col4</th></tr></thead>\n",
       "<thead><tr><th>float64</th><th>float64</th><th>float64</th><th>float64</th></tr></thead>\n",
       "<tr><td>52562.06185</td><td>52562.08407</td><td>2.437</td><td>0.013</td></tr>\n",
       "<tr><td>52562.12505</td><td>52562.54866</td><td>2.524</td><td>0.016</td></tr>\n",
       "<tr><td>52563.11324</td><td>52563.14171</td><td>2.501</td><td>0.007</td></tr>\n",
       "<tr><td>52563.17921</td><td>52563.21255</td><td>2.536</td><td>0.01</td></tr>\n",
       "<tr><td>52563.24519</td><td>52563.54866</td><td>2.541</td><td>0.011</td></tr>\n",
       "<tr><td>52564.16741</td><td>52564.53338</td><td>2.298</td><td>0.029</td></tr>\n",
       "<tr><td>52565.02366</td><td>52565.04657</td><td>2.084</td><td>0.008</td></tr>\n",
       "<tr><td>52565.08963</td><td>52565.52435</td><td>1.946</td><td>0.008</td></tr>\n",
       "<tr><td>52566.01116</td><td>52566.03407</td><td>1.913</td><td>0.003</td></tr>\n",
       "<tr><td>52566.07713</td><td>52566.10491</td><td>1.853</td><td>0.002</td></tr>\n",
       "<tr><td>...</td><td>...</td><td>...</td><td>...</td></tr>\n",
       "<tr><td>52569.04171</td><td>52569.0681</td><td>1.469</td><td>0.005</td></tr>\n",
       "<tr><td>52569.10769</td><td>52569.34519</td><td>1.465</td><td>0.009</td></tr>\n",
       "<tr><td>52569.37088</td><td>52569.41116</td><td>1.458</td><td>0.011</td></tr>\n",
       "<tr><td>52569.45213</td><td>52569.47713</td><td>1.441</td><td>0.007</td></tr>\n",
       "<tr><td>52570.02921</td><td>52570.0556</td><td>1.361</td><td>0.001</td></tr>\n",
       "<tr><td>52570.09519</td><td>52570.33338</td><td>1.323</td><td>0.019</td></tr>\n",
       "<tr><td>52570.35907</td><td>52570.39935</td><td>1.295</td><td>0.013</td></tr>\n",
       "<tr><td>52570.44032</td><td>52570.46394</td><td>1.259</td><td>0.003</td></tr>\n",
       "<tr><td>52570.51046</td><td>52570.5306</td><td>1.247</td><td>0.007</td></tr>\n",
       "<tr><td>52570.95144</td><td>52570.97227</td><td>1.184</td><td>0.001</td></tr>\n",
       "</table>"
      ],
      "text/plain": [
       "<Table length=26>\n",
       "    col1        col2      col3    col4 \n",
       "  float64     float64   float64 float64\n",
       "----------- ----------- ------- -------\n",
       "52562.06185 52562.08407   2.437   0.013\n",
       "52562.12505 52562.54866   2.524   0.016\n",
       "52563.11324 52563.14171   2.501   0.007\n",
       "52563.17921 52563.21255   2.536    0.01\n",
       "52563.24519 52563.54866   2.541   0.011\n",
       "52564.16741 52564.53338   2.298   0.029\n",
       "52565.02366 52565.04657   2.084   0.008\n",
       "52565.08963 52565.52435   1.946   0.008\n",
       "52566.01116 52566.03407   1.913   0.003\n",
       "52566.07713 52566.10491   1.853   0.002\n",
       "        ...         ...     ...     ...\n",
       "52569.04171  52569.0681   1.469   0.005\n",
       "52569.10769 52569.34519   1.465   0.009\n",
       "52569.37088 52569.41116   1.458   0.011\n",
       "52569.45213 52569.47713   1.441   0.007\n",
       "52570.02921  52570.0556   1.361   0.001\n",
       "52570.09519 52570.33338   1.323   0.019\n",
       "52570.35907 52570.39935   1.295   0.013\n",
       "52570.44032 52570.46394   1.259   0.003\n",
       "52570.51046  52570.5306   1.247   0.007\n",
       "52570.95144 52570.97227   1.184   0.001"
      ]
     },
     "execution_count": 9,
     "metadata": {},
     "output_type": "execute_result"
    }
   ],
   "source": [
    "obsdata"
   ]
  },
  {
   "cell_type": "code",
   "execution_count": null,
   "metadata": {},
   "outputs": [],
   "source": []
  }
 ],
 "metadata": {
  "kernelspec": {
   "display_name": "Python 3",
   "language": "python",
   "name": "python3"
  },
  "language_info": {
   "codemirror_mode": {
    "name": "ipython",
    "version": 3
   },
   "file_extension": ".py",
   "mimetype": "text/x-python",
   "name": "python",
   "nbconvert_exporter": "python",
   "pygments_lexer": "ipython3",
   "version": "3.7.4"
  }
 },
 "nbformat": 4,
 "nbformat_minor": 2
}
